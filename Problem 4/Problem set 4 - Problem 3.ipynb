{
 "cells": [
  {
   "cell_type": "code",
   "execution_count": 3,
   "metadata": {},
   "outputs": [],
   "source": [
    "%load_ext lab_black\n",
    "%matplotlib inline"
   ]
  },
  {
   "cell_type": "code",
   "execution_count": 1,
   "metadata": {},
   "outputs": [],
   "source": [
    "import numpy as np\n",
    "import matplotlib.pyplot as plt\n",
    "import seaborn as sns\n",
    "# import scipy.io as sp\n",
    "# from scipy.stats import expon, poisson, norm\n",
    "# import statistics\n",
    "# import pandas as pd\n",
    "# from math import exp, sqrt\n",
    "# import copy\n",
    "# import random"
   ]
  },
  {
   "cell_type": "code",
   "execution_count": 2,
   "metadata": {},
   "outputs": [],
   "source": [
    "plt.style.use(\"ggplot\")\n",
    "fig_width = 8  # width in inches\n",
    "fig_height = 6  # height in inches\n",
    "fig_size = [fig_width, fig_height]\n",
    "plt.rcParams[\"figure.figsize\"] = fig_size\n",
    "plt.rcParams[\"figure.autolayout\"] = True\n",
    "\n",
    "sns.set(style=\"whitegrid\", context=\"notebook\", palette=\"Set2\", font_scale=1.5)"
   ]
  },
  {
   "cell_type": "markdown",
   "metadata": {},
   "source": [
    "# Problem 3: Hopfield Model\n",
    "In this exercise, we seek to construct a Hopfield network with N = 64 neurons, whose dynamics\n",
    "are given by the differential equation\n",
    "\n",
    "$x = −x + f(Wx) + \\sigma \\eta(t) (1)$\n",
    "\n",
    "where x is the vector of firing rates, W is the N × N weight matrix, and σ = 0.1 is an external\n",
    "noise level. For mathematical simplicity, we will set the activation function to f(x) = sign(x), so\n",
    "that neural activity can run from −1 to 1. (This step is simply for mathematical convenience, i.e.,\n",
    "it makes the math simpler. If necessary, however, one can also simulate the Hopfield network with\n",
    "a more realistic input-output functions such as the one we used above.) To store a pattern p in the\n",
    "Hopfield network, we set the weight matrix to $W_{ij} = p_ip_j$ , i.e., the weight matrix is the outer product\n",
    "of two vectors,\n",
    "\n",
    "$ W = \\frac{1}{N} pp^T$\n",
    "\n",
    "where by convention, p is assumed to be a column vector, and the superscript T denotes the matrix\n",
    "transpose; here, it makes a column vector into a row vector"
   ]
  },
  {
   "cell_type": "code",
   "execution_count": 3,
   "metadata": {},
   "outputs": [
    {
     "data": {
      "text/plain": [
       "(8, 8)"
      ]
     },
     "execution_count": 3,
     "metadata": {},
     "output_type": "execute_result"
    },
    {
     "data": {
      "image/png": "[encoded data removed]",
      "text/plain": [
       "<Figure size 576x432 with 1 Axes>"
      ]
     },
     "metadata": {},
     "output_type": "display_data"
    }
   ],
   "source": [
    "P = np.array(\n",
    "    [\n",
    "        [1, 1, 1, 1, 1, 1, 1, 1],\n",
    "        [1, 1, 1, 1, 1, 1, 1, 1],\n",
    "        [-1, -1, -1, 1, 1, -1, -1, -1],\n",
    "        [-1, -1, -1, 1, 1, -1, -1, -1],\n",
    "        [-1, -1, -1, 1, 1, -1, -1, -1],\n",
    "        [-1, -1, -1, 1, 1, -1, -1, -1],\n",
    "        [-1, -1, -1, 1, 1, -1, -1, -1],\n",
    "        [-1, -1, -1, 1, 1, -1, -1, -1],\n",
    "    ]\n",
    ")\n",
    "\n",
    "plt.imshow(P)\n",
    "N = 64\n",
    "W = (1 / N) * P * P.transpose()\n",
    "P.shape"
   ]
  },
  {
   "cell_type": "code",
   "execution_count": 17,
   "metadata": {},
   "outputs": [],
   "source": []
  }
 ],
 "metadata": {
  "kernelspec": {
   "display_name": "Python 3",
   "language": "python",
   "name": "python3"
  },
  "language_info": {
   "codemirror_mode": {
    "name": "ipython",
    "version": 3
   },
   "file_extension": ".py",
   "mimetype": "text/x-python",
   "name": "python",
   "nbconvert_exporter": "python",
   "pygments_lexer": "ipython3",
   "version": "3.8.2"
  }
 },
 "nbformat": 4,
 "nbformat_minor": 4
}
